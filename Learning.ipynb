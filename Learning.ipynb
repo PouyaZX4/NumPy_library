{
 "cells": [
  {
   "cell_type": "code",
   "execution_count": 216,
   "id": "initial_id",
   "metadata": {
    "ExecuteTime": {
     "end_time": "2024-01-23T18:00:09.988374400Z",
     "start_time": "2024-01-23T18:00:09.199103Z"
    }
   },
   "outputs": [],
   "source": [
    "import numpy as np"
   ]
  },
  {
   "cell_type": "markdown",
   "id": "7053768162fef58c",
   "metadata": {
    "collapsed": false
   },
   "source": [
    "# 1.Data Types & attributes"
   ]
  },
  {
   "cell_type": "markdown",
   "id": "60955b10f3c71812",
   "metadata": {
    "collapsed": false
   },
   "source": [
    "numpy's main and only datatype is ndarray"
   ]
  },
  {
   "cell_type": "markdown",
   "id": "1f6631dce8440a5f",
   "metadata": {
    "collapsed": false
   },
   "source": [
    "ndarray: N demension array"
   ]
  },
  {
   "cell_type": "code",
   "execution_count": 217,
   "id": "9336f647828c4492",
   "metadata": {
    "collapsed": false,
    "ExecuteTime": {
     "end_time": "2024-01-23T18:00:10.973101600Z",
     "start_time": "2024-01-23T18:00:09.267238300Z"
    }
   },
   "outputs": [
    {
     "data": {
      "text/plain": "array([1, 2, 3])"
     },
     "execution_count": 217,
     "metadata": {},
     "output_type": "execute_result"
    }
   ],
   "source": [
    "a1 = np.array([1, 2, 3])\n",
    "a1"
   ]
  },
  {
   "cell_type": "code",
   "execution_count": 218,
   "id": "eb455891f67ca267",
   "metadata": {
    "collapsed": false,
    "ExecuteTime": {
     "end_time": "2024-01-23T18:00:10.973101600Z",
     "start_time": "2024-01-23T18:00:09.277611200Z"
    }
   },
   "outputs": [
    {
     "data": {
      "text/plain": "numpy.ndarray"
     },
     "execution_count": 218,
     "metadata": {},
     "output_type": "execute_result"
    }
   ],
   "source": [
    "type(a1)"
   ]
  },
  {
   "cell_type": "code",
   "execution_count": 219,
   "id": "d7b7f0cc74b8246",
   "metadata": {
    "collapsed": false,
    "ExecuteTime": {
     "end_time": "2024-01-23T18:00:10.973634600Z",
     "start_time": "2024-01-23T18:00:09.289737500Z"
    }
   },
   "outputs": [],
   "source": [
    "a2 = np.array([[1,2,3.3],\n",
    "               [4,5,6.5]])\n",
    "a3 = np.array([[[1,2,3],\n",
    "               [4,5,6],\n",
    "               [7,8,9]],\n",
    "               [[10,11,12],\n",
    "               [13,14,15],\n",
    "               [16,17,18]]])"
   ]
  },
  {
   "cell_type": "code",
   "execution_count": 220,
   "id": "1feac30ae0162da3",
   "metadata": {
    "collapsed": false,
    "ExecuteTime": {
     "end_time": "2024-01-23T18:00:11.208715Z",
     "start_time": "2024-01-23T18:00:09.299163100Z"
    }
   },
   "outputs": [
    {
     "data": {
      "text/plain": "array([[1. , 2. , 3.3],\n       [4. , 5. , 6.5]])"
     },
     "execution_count": 220,
     "metadata": {},
     "output_type": "execute_result"
    }
   ],
   "source": [
    "a2"
   ]
  },
  {
   "cell_type": "code",
   "execution_count": 221,
   "id": "82d208381778bbc5",
   "metadata": {
    "collapsed": false,
    "ExecuteTime": {
     "end_time": "2024-01-23T18:00:11.218652600Z",
     "start_time": "2024-01-23T18:00:09.313103900Z"
    }
   },
   "outputs": [
    {
     "data": {
      "text/plain": "array([[[ 1,  2,  3],\n        [ 4,  5,  6],\n        [ 7,  8,  9]],\n\n       [[10, 11, 12],\n        [13, 14, 15],\n        [16, 17, 18]]])"
     },
     "execution_count": 221,
     "metadata": {},
     "output_type": "execute_result"
    }
   ],
   "source": [
    "a3"
   ]
  },
  {
   "cell_type": "markdown",
   "id": "eff845ec226e7545",
   "metadata": {
    "collapsed": false
   },
   "source": [
    "## 2.Atributes"
   ]
  },
  {
   "cell_type": "code",
   "execution_count": 222,
   "id": "26b9ef936864fcee",
   "metadata": {
    "collapsed": false,
    "ExecuteTime": {
     "end_time": "2024-01-23T18:00:11.218652600Z",
     "start_time": "2024-01-23T18:00:09.322765700Z"
    }
   },
   "outputs": [
    {
     "data": {
      "text/plain": "(3,)"
     },
     "execution_count": 222,
     "metadata": {},
     "output_type": "execute_result"
    }
   ],
   "source": [
    "a1.shape"
   ]
  },
  {
   "cell_type": "code",
   "execution_count": 223,
   "id": "9af819d21f33ba8f",
   "metadata": {
    "collapsed": false,
    "ExecuteTime": {
     "end_time": "2024-01-23T18:00:11.300160200Z",
     "start_time": "2024-01-23T18:00:09.334719800Z"
    }
   },
   "outputs": [
    {
     "data": {
      "text/plain": "array([1, 2, 3])"
     },
     "execution_count": 223,
     "metadata": {},
     "output_type": "execute_result"
    }
   ],
   "source": [
    "a1"
   ]
  },
  {
   "cell_type": "code",
   "execution_count": 224,
   "id": "a027bb3a75a7447",
   "metadata": {
    "collapsed": false,
    "ExecuteTime": {
     "end_time": "2024-01-23T18:00:11.300636700Z",
     "start_time": "2024-01-23T18:00:09.417062300Z"
    }
   },
   "outputs": [
    {
     "data": {
      "text/plain": "(2, 3)"
     },
     "execution_count": 224,
     "metadata": {},
     "output_type": "execute_result"
    }
   ],
   "source": [
    "a2.shape"
   ]
  },
  {
   "cell_type": "code",
   "execution_count": 225,
   "id": "de157bd7270473d1",
   "metadata": {
    "collapsed": false,
    "ExecuteTime": {
     "end_time": "2024-01-23T18:00:11.300636700Z",
     "start_time": "2024-01-23T18:00:09.417062300Z"
    }
   },
   "outputs": [
    {
     "data": {
      "text/plain": "array([[1. , 2. , 3.3],\n       [4. , 5. , 6.5]])"
     },
     "execution_count": 225,
     "metadata": {},
     "output_type": "execute_result"
    }
   ],
   "source": [
    "a2"
   ]
  },
  {
   "cell_type": "code",
   "execution_count": 226,
   "id": "15cc2a00aa4132",
   "metadata": {
    "collapsed": false,
    "ExecuteTime": {
     "end_time": "2024-01-23T18:00:11.301160500Z",
     "start_time": "2024-01-23T18:00:09.417062300Z"
    }
   },
   "outputs": [
    {
     "data": {
      "text/plain": "(2, 3, 3)"
     },
     "execution_count": 226,
     "metadata": {},
     "output_type": "execute_result"
    }
   ],
   "source": [
    "a3.shape"
   ]
  },
  {
   "cell_type": "code",
   "execution_count": 227,
   "id": "f3475387bf548955",
   "metadata": {
    "collapsed": false,
    "ExecuteTime": {
     "end_time": "2024-01-23T18:00:11.301160500Z",
     "start_time": "2024-01-23T18:00:09.417949100Z"
    }
   },
   "outputs": [
    {
     "data": {
      "text/plain": "array([[[ 1,  2,  3],\n        [ 4,  5,  6],\n        [ 7,  8,  9]],\n\n       [[10, 11, 12],\n        [13, 14, 15],\n        [16, 17, 18]]])"
     },
     "execution_count": 227,
     "metadata": {},
     "output_type": "execute_result"
    }
   ],
   "source": [
    "a3"
   ]
  },
  {
   "cell_type": "code",
   "execution_count": 228,
   "id": "563770565e7d6de3",
   "metadata": {
    "collapsed": false,
    "ExecuteTime": {
     "end_time": "2024-01-23T18:00:11.301160500Z",
     "start_time": "2024-01-23T18:00:09.417949100Z"
    }
   },
   "outputs": [
    {
     "data": {
      "text/plain": "(1, 2, 3)"
     },
     "execution_count": 228,
     "metadata": {},
     "output_type": "execute_result"
    }
   ],
   "source": [
    "a1.ndim, a2.ndim, a3.ndim # ndim for the number of dimension"
   ]
  },
  {
   "cell_type": "code",
   "execution_count": 229,
   "id": "98ab8c0aa4688093",
   "metadata": {
    "collapsed": false,
    "ExecuteTime": {
     "end_time": "2024-01-23T18:00:11.301160500Z",
     "start_time": "2024-01-23T18:00:09.417949100Z"
    }
   },
   "outputs": [
    {
     "data": {
      "text/plain": "(dtype('int32'), dtype('float64'), dtype('int32'))"
     },
     "execution_count": 229,
     "metadata": {},
     "output_type": "execute_result"
    }
   ],
   "source": [
    "a1.dtype, a2.dtype, a3.dtype # dtype for the datatype "
   ]
  },
  {
   "cell_type": "code",
   "execution_count": 230,
   "id": "7a11f781c8e6dbb",
   "metadata": {
    "collapsed": false,
    "ExecuteTime": {
     "end_time": "2024-01-23T18:00:11.301160500Z",
     "start_time": "2024-01-23T18:00:09.417949100Z"
    }
   },
   "outputs": [
    {
     "data": {
      "text/plain": "(3, 6, 18)"
     },
     "execution_count": 230,
     "metadata": {},
     "output_type": "execute_result"
    }
   ],
   "source": [
    "a1.size, a2.size, a3.size # size for the number of elements"
   ]
  },
  {
   "cell_type": "code",
   "execution_count": 231,
   "id": "9490cc15c347c72e",
   "metadata": {
    "collapsed": false,
    "ExecuteTime": {
     "end_time": "2024-01-23T18:00:11.301160500Z",
     "start_time": "2024-01-23T18:00:09.417949100Z"
    }
   },
   "outputs": [
    {
     "data": {
      "text/plain": "(numpy.ndarray, numpy.ndarray, numpy.ndarray)"
     },
     "execution_count": 231,
     "metadata": {},
     "output_type": "execute_result"
    }
   ],
   "source": [
    "type(a1), type(a2), type(a3) # type() for the type of the variable  "
   ]
  },
  {
   "cell_type": "markdown",
   "id": "4aeb2a34b874cd7f",
   "metadata": {
    "collapsed": false
   },
   "source": [
    "# 2.Created DataFrame from NumPy array"
   ]
  },
  {
   "cell_type": "code",
   "execution_count": 232,
   "id": "61600578dff8dc43",
   "metadata": {
    "collapsed": false,
    "ExecuteTime": {
     "end_time": "2024-01-23T18:00:11.302665600Z",
     "start_time": "2024-01-23T18:00:09.428477100Z"
    }
   },
   "outputs": [],
   "source": [
    "import pandas as pd"
   ]
  },
  {
   "cell_type": "code",
   "execution_count": 233,
   "id": "38458ee825bbffd9",
   "metadata": {
    "collapsed": false,
    "ExecuteTime": {
     "end_time": "2024-01-23T18:00:11.302665600Z",
     "start_time": "2024-01-23T18:00:09.434831800Z"
    }
   },
   "outputs": [
    {
     "data": {
      "text/plain": "array([[1. , 2. , 3.3],\n       [4. , 5. , 6.5]])"
     },
     "execution_count": 233,
     "metadata": {},
     "output_type": "execute_result"
    }
   ],
   "source": [
    "a2"
   ]
  },
  {
   "cell_type": "code",
   "execution_count": 234,
   "id": "1433eef779585401",
   "metadata": {
    "collapsed": false,
    "ExecuteTime": {
     "end_time": "2024-01-23T18:00:11.923233200Z",
     "start_time": "2024-01-23T18:00:09.454767300Z"
    }
   },
   "outputs": [
    {
     "data": {
      "text/plain": "     0    1    2\n0  1.0  2.0  3.3\n1  4.0  5.0  6.5",
      "text/html": "<div>\n<style scoped>\n    .dataframe tbody tr th:only-of-type {\n        vertical-align: middle;\n    }\n\n    .dataframe tbody tr th {\n        vertical-align: top;\n    }\n\n    .dataframe thead th {\n        text-align: right;\n    }\n</style>\n<table border=\"1\" class=\"dataframe\">\n  <thead>\n    <tr style=\"text-align: right;\">\n      <th></th>\n      <th>0</th>\n      <th>1</th>\n      <th>2</th>\n    </tr>\n  </thead>\n  <tbody>\n    <tr>\n      <th>0</th>\n      <td>1.0</td>\n      <td>2.0</td>\n      <td>3.3</td>\n    </tr>\n    <tr>\n      <th>1</th>\n      <td>4.0</td>\n      <td>5.0</td>\n      <td>6.5</td>\n    </tr>\n  </tbody>\n</table>\n</div>"
     },
     "execution_count": 234,
     "metadata": {},
     "output_type": "execute_result"
    }
   ],
   "source": [
    "df = pd.DataFrame(a2)\n",
    "df"
   ]
  },
  {
   "cell_type": "markdown",
   "id": "ccb8da748b47ccd3",
   "metadata": {
    "collapsed": false
   },
   "source": [
    "# 2.Creating arrays"
   ]
  },
  {
   "cell_type": "code",
   "execution_count": 235,
   "id": "8749ff02b68dff2e",
   "metadata": {
    "collapsed": false,
    "ExecuteTime": {
     "end_time": "2024-01-23T18:00:11.923753400Z",
     "start_time": "2024-01-23T18:00:09.461284200Z"
    }
   },
   "outputs": [
    {
     "data": {
      "text/plain": "array([1, 2, 3])"
     },
     "execution_count": 235,
     "metadata": {},
     "output_type": "execute_result"
    }
   ],
   "source": [
    "sample_array = np.array([1,2,3])\n",
    "sample_array"
   ]
  },
  {
   "cell_type": "code",
   "execution_count": 236,
   "id": "722f93b54cf22892",
   "metadata": {
    "collapsed": false,
    "ExecuteTime": {
     "end_time": "2024-01-23T18:00:11.924287Z",
     "start_time": "2024-01-23T18:00:09.469814Z"
    }
   },
   "outputs": [
    {
     "data": {
      "text/plain": "dtype('int32')"
     },
     "execution_count": 236,
     "metadata": {},
     "output_type": "execute_result"
    }
   ],
   "source": [
    "sample_array.dtype"
   ]
  },
  {
   "cell_type": "code",
   "execution_count": 237,
   "id": "cd3aa622242867e2",
   "metadata": {
    "collapsed": false,
    "ExecuteTime": {
     "end_time": "2024-01-23T18:00:11.924287Z",
     "start_time": "2024-01-23T18:00:09.478494600Z"
    }
   },
   "outputs": [],
   "source": [
    "ones = np.ones((2,3))"
   ]
  },
  {
   "cell_type": "code",
   "execution_count": 238,
   "id": "bea9ec5b7e800c23",
   "metadata": {
    "collapsed": false,
    "ExecuteTime": {
     "end_time": "2024-01-23T18:00:11.924820100Z",
     "start_time": "2024-01-23T18:00:09.485483Z"
    }
   },
   "outputs": [
    {
     "data": {
      "text/plain": "dtype('float64')"
     },
     "execution_count": 238,
     "metadata": {},
     "output_type": "execute_result"
    }
   ],
   "source": [
    "ones.dtype"
   ]
  },
  {
   "cell_type": "code",
   "execution_count": 239,
   "id": "1ca41ff60f7e7041",
   "metadata": {
    "collapsed": false,
    "ExecuteTime": {
     "end_time": "2024-01-23T18:00:12.317280800Z",
     "start_time": "2024-01-23T18:00:09.494196600Z"
    }
   },
   "outputs": [
    {
     "data": {
      "text/plain": "numpy.ndarray"
     },
     "execution_count": 239,
     "metadata": {},
     "output_type": "execute_result"
    }
   ],
   "source": [
    "type(ones)"
   ]
  },
  {
   "cell_type": "code",
   "execution_count": 240,
   "id": "8ecd7c4c81b7613c",
   "metadata": {
    "collapsed": false,
    "ExecuteTime": {
     "end_time": "2024-01-23T18:00:12.317280800Z",
     "start_time": "2024-01-23T18:00:09.507710Z"
    }
   },
   "outputs": [],
   "source": [
    "zeros = np.zeros((2,3))"
   ]
  },
  {
   "cell_type": "code",
   "execution_count": 241,
   "id": "cc454ec20a63dbb6",
   "metadata": {
    "collapsed": false,
    "ExecuteTime": {
     "end_time": "2024-01-23T18:00:12.317280800Z",
     "start_time": "2024-01-23T18:00:09.513004700Z"
    }
   },
   "outputs": [
    {
     "data": {
      "text/plain": "array([[0., 0., 0.],\n       [0., 0., 0.]])"
     },
     "execution_count": 241,
     "metadata": {},
     "output_type": "execute_result"
    }
   ],
   "source": [
    "zeros"
   ]
  },
  {
   "cell_type": "code",
   "execution_count": 242,
   "id": "e367e50f5799b62a",
   "metadata": {
    "collapsed": false,
    "ExecuteTime": {
     "end_time": "2024-01-23T18:00:12.318280700Z",
     "start_time": "2024-01-23T18:00:09.520306600Z"
    }
   },
   "outputs": [
    {
     "data": {
      "text/plain": "array([0, 2, 4, 6, 8])"
     },
     "execution_count": 242,
     "metadata": {},
     "output_type": "execute_result"
    }
   ],
   "source": [
    "range_array = np.arange(0, 10, 2)\n",
    "range_array"
   ]
  },
  {
   "cell_type": "code",
   "execution_count": 243,
   "id": "a5c9c5ed7738d680",
   "metadata": {
    "collapsed": false,
    "ExecuteTime": {
     "end_time": "2024-01-23T18:00:12.318280700Z",
     "start_time": "2024-01-23T18:00:09.528937600Z"
    }
   },
   "outputs": [],
   "source": [
    "random_array = np.random.randint(0,10, size=(3,5))"
   ]
  },
  {
   "cell_type": "code",
   "execution_count": 244,
   "id": "d7df26313d17fba5",
   "metadata": {
    "collapsed": false,
    "ExecuteTime": {
     "end_time": "2024-01-23T18:00:12.318280700Z",
     "start_time": "2024-01-23T18:00:09.536377600Z"
    }
   },
   "outputs": [
    {
     "data": {
      "text/plain": "array([[7, 8, 1, 5, 9],\n       [8, 9, 4, 3, 0],\n       [3, 5, 0, 2, 3]])"
     },
     "execution_count": 244,
     "metadata": {},
     "output_type": "execute_result"
    }
   ],
   "source": [
    "random_array"
   ]
  },
  {
   "cell_type": "code",
   "execution_count": 245,
   "id": "6272d1971c894c93",
   "metadata": {
    "collapsed": false,
    "ExecuteTime": {
     "end_time": "2024-01-23T18:00:12.351881200Z",
     "start_time": "2024-01-23T18:00:09.552220500Z"
    }
   },
   "outputs": [
    {
     "data": {
      "text/plain": "15"
     },
     "execution_count": 245,
     "metadata": {},
     "output_type": "execute_result"
    }
   ],
   "source": [
    "random_array.size"
   ]
  },
  {
   "cell_type": "code",
   "execution_count": 246,
   "id": "c3688411f53ac33b",
   "metadata": {
    "collapsed": false,
    "ExecuteTime": {
     "end_time": "2024-01-23T18:00:12.352880800Z",
     "start_time": "2024-01-23T18:00:09.559263300Z"
    }
   },
   "outputs": [
    {
     "data": {
      "text/plain": "(3, 5)"
     },
     "execution_count": 246,
     "metadata": {},
     "output_type": "execute_result"
    }
   ],
   "source": [
    "random_array.shape"
   ]
  },
  {
   "cell_type": "code",
   "execution_count": 247,
   "id": "a222beb2f3a71a4c",
   "metadata": {
    "collapsed": false,
    "ExecuteTime": {
     "end_time": "2024-01-23T18:00:12.352880800Z",
     "start_time": "2024-01-23T18:00:09.568548400Z"
    }
   },
   "outputs": [],
   "source": [
    "random_array_2 = np.random.random((5,3)) * 100"
   ]
  },
  {
   "cell_type": "code",
   "execution_count": 248,
   "id": "ab52ef6a776986be",
   "metadata": {
    "collapsed": false,
    "ExecuteTime": {
     "end_time": "2024-01-23T18:00:12.352880800Z",
     "start_time": "2024-01-23T18:00:09.575468400Z"
    }
   },
   "outputs": [
    {
     "data": {
      "text/plain": "array([[79.91585642, 46.14793623, 78.05291763],\n       [11.82744259, 63.99210213, 14.33532874],\n       [94.4668917 , 52.18483218, 41.466194  ],\n       [26.45556121, 77.42336894, 45.61503322],\n       [56.84339489,  1.87898004, 61.76354971]])"
     },
     "execution_count": 248,
     "metadata": {},
     "output_type": "execute_result"
    }
   ],
   "source": [
    "random_array_2"
   ]
  },
  {
   "cell_type": "code",
   "execution_count": 249,
   "id": "1ffe59ce53eb0541",
   "metadata": {
    "collapsed": false,
    "ExecuteTime": {
     "end_time": "2024-01-23T18:00:12.664824Z",
     "start_time": "2024-01-23T18:00:09.583939Z"
    }
   },
   "outputs": [],
   "source": [
    "random_array_3 = np.random.rand(5,3)"
   ]
  },
  {
   "cell_type": "code",
   "execution_count": 250,
   "outputs": [
    {
     "data": {
      "text/plain": "array([[0.61209572, 0.616934  , 0.94374808],\n       [0.6818203 , 0.3595079 , 0.43703195],\n       [0.6976312 , 0.06022547, 0.66676672],\n       [0.67063787, 0.21038256, 0.1289263 ],\n       [0.31542835, 0.36371077, 0.57019677]])"
     },
     "execution_count": 250,
     "metadata": {},
     "output_type": "execute_result"
    }
   ],
   "source": [
    "random_array_3"
   ],
   "metadata": {
    "collapsed": false,
    "ExecuteTime": {
     "end_time": "2024-01-23T18:00:12.664824Z",
     "start_time": "2024-01-23T18:00:09.595304200Z"
    }
   },
   "id": "58b3dc0a286d83d1"
  },
  {
   "cell_type": "markdown",
   "source": [
    "Pesudo-random numebrs"
   ],
   "metadata": {
    "collapsed": false
   },
   "id": "fdc1cbb88fb3a215"
  },
  {
   "cell_type": "code",
   "execution_count": 251,
   "outputs": [
    {
     "data": {
      "text/plain": "array([[5, 0, 3],\n       [3, 7, 9],\n       [3, 5, 2],\n       [4, 7, 6],\n       [8, 8, 1]])"
     },
     "execution_count": 251,
     "metadata": {},
     "output_type": "execute_result"
    }
   ],
   "source": [
    "np.random.seed(seed= 0)# if you set a seed the computer will always generate the random  numbers along with the seed\n",
    "random_array_4 = np.random.randint(10, size=(5,3))\n",
    "random_array_4"
   ],
   "metadata": {
    "collapsed": false,
    "ExecuteTime": {
     "end_time": "2024-01-23T18:00:12.665629200Z",
     "start_time": "2024-01-23T18:00:09.605098800Z"
    }
   },
   "id": "ef7d2134951ff042"
  },
  {
   "cell_type": "code",
   "execution_count": 252,
   "outputs": [
    {
     "data": {
      "text/plain": "           a          b          c\n0  62.468020  35.170796  99.989706\n1  72.790068  86.791970  91.689526\n2  83.236581  68.899535  64.290927\n3  51.506494  62.272494  38.330245\n4  81.599298  20.969431  97.535117",
      "text/html": "<div>\n<style scoped>\n    .dataframe tbody tr th:only-of-type {\n        vertical-align: middle;\n    }\n\n    .dataframe tbody tr th {\n        vertical-align: top;\n    }\n\n    .dataframe thead th {\n        text-align: right;\n    }\n</style>\n<table border=\"1\" class=\"dataframe\">\n  <thead>\n    <tr style=\"text-align: right;\">\n      <th></th>\n      <th>a</th>\n      <th>b</th>\n      <th>c</th>\n    </tr>\n  </thead>\n  <tbody>\n    <tr>\n      <th>0</th>\n      <td>62.468020</td>\n      <td>35.170796</td>\n      <td>99.989706</td>\n    </tr>\n    <tr>\n      <th>1</th>\n      <td>72.790068</td>\n      <td>86.791970</td>\n      <td>91.689526</td>\n    </tr>\n    <tr>\n      <th>2</th>\n      <td>83.236581</td>\n      <td>68.899535</td>\n      <td>64.290927</td>\n    </tr>\n    <tr>\n      <th>3</th>\n      <td>51.506494</td>\n      <td>62.272494</td>\n      <td>38.330245</td>\n    </tr>\n    <tr>\n      <th>4</th>\n      <td>81.599298</td>\n      <td>20.969431</td>\n      <td>97.535117</td>\n    </tr>\n  </tbody>\n</table>\n</div>"
     },
     "execution_count": 252,
     "metadata": {},
     "output_type": "execute_result"
    }
   ],
   "source": [
    "np.random.seed(seed=1)\n",
    "numbers = pd.DataFrame(np.random.uniform(10,size=(5,3)) * 10,\n",
    "                       columns=[\"a\",\"b\", \"c\"])\n",
    "numbers"
   ],
   "metadata": {
    "collapsed": false,
    "ExecuteTime": {
     "end_time": "2024-01-23T18:00:12.665629200Z",
     "start_time": "2024-01-23T18:00:09.621187200Z"
    }
   },
   "id": "1e609280a145f3bd"
  },
  {
   "cell_type": "code",
   "execution_count": 253,
   "outputs": [],
   "source": [
    "import array\n",
    "l = [i for i in range(10)]\n",
    "a = array.array(\"i\", l)"
   ],
   "metadata": {
    "collapsed": false,
    "ExecuteTime": {
     "end_time": "2024-01-23T18:00:12.665629200Z",
     "start_time": "2024-01-23T18:00:09.628249800Z"
    }
   },
   "id": "64d6ca77fafbc1ec"
  },
  {
   "cell_type": "code",
   "execution_count": 254,
   "outputs": [
    {
     "data": {
      "text/plain": "array('i', [0, 1, 2, 3, 4, 5, 6, 7, 8, 9])"
     },
     "execution_count": 254,
     "metadata": {},
     "output_type": "execute_result"
    }
   ],
   "source": [
    "a"
   ],
   "metadata": {
    "collapsed": false,
    "ExecuteTime": {
     "end_time": "2024-01-23T18:00:13.372619100Z",
     "start_time": "2024-01-23T18:00:09.635420800Z"
    }
   },
   "id": "cefcc574ad2df46c"
  },
  {
   "cell_type": "code",
   "execution_count": 255,
   "outputs": [
    {
     "data": {
      "text/plain": "array([1., 2., 3., 4., 5.])"
     },
     "execution_count": 255,
     "metadata": {},
     "output_type": "execute_result"
    }
   ],
   "source": [
    "np.array([1,2.,3,4,5])"
   ],
   "metadata": {
    "collapsed": false,
    "ExecuteTime": {
     "end_time": "2024-01-23T18:00:13.373139300Z",
     "start_time": "2024-01-23T18:00:09.650672500Z"
    }
   },
   "id": "4a21727222306c8b"
  },
  {
   "cell_type": "code",
   "execution_count": 256,
   "outputs": [
    {
     "data": {
      "text/plain": "array([[2, 3, 4],\n       [4, 5, 6],\n       [6, 7, 8]])"
     },
     "execution_count": 256,
     "metadata": {},
     "output_type": "execute_result"
    }
   ],
   "source": [
    "np.array([range(i , i + 3) for i in [2,4,6]])"
   ],
   "metadata": {
    "collapsed": false,
    "ExecuteTime": {
     "end_time": "2024-01-23T18:00:13.373655300Z",
     "start_time": "2024-01-23T18:00:09.656125500Z"
    }
   },
   "id": "ab52a8ac7da0efb5"
  },
  {
   "cell_type": "code",
   "execution_count": 257,
   "outputs": [
    {
     "data": {
      "text/plain": "array([0, 0, 0, 0, 0, 0, 0, 0, 0, 0])"
     },
     "execution_count": 257,
     "metadata": {},
     "output_type": "execute_result"
    }
   ],
   "source": [
    "np.zeros((10), dtype=int)"
   ],
   "metadata": {
    "collapsed": false,
    "ExecuteTime": {
     "end_time": "2024-01-23T18:00:13.520806300Z",
     "start_time": "2024-01-23T18:00:09.662693500Z"
    }
   },
   "id": "d122a7236e030e00"
  },
  {
   "cell_type": "code",
   "execution_count": 258,
   "outputs": [
    {
     "data": {
      "text/plain": "array([[1, 1, 1, 1, 1],\n       [1, 1, 1, 1, 1],\n       [1, 1, 1, 1, 1]])"
     },
     "execution_count": 258,
     "metadata": {},
     "output_type": "execute_result"
    }
   ],
   "source": [
    "np.ones((3,5), dtype=int)"
   ],
   "metadata": {
    "collapsed": false,
    "ExecuteTime": {
     "end_time": "2024-01-23T18:00:13.520806300Z",
     "start_time": "2024-01-23T18:00:09.672143200Z"
    }
   },
   "id": "c35b33f62e83ef2e"
  },
  {
   "cell_type": "code",
   "execution_count": 259,
   "outputs": [
    {
     "data": {
      "text/plain": "array([[3.14, 3.14, 3.14, 3.14, 3.14],\n       [3.14, 3.14, 3.14, 3.14, 3.14],\n       [3.14, 3.14, 3.14, 3.14, 3.14]])"
     },
     "execution_count": 259,
     "metadata": {},
     "output_type": "execute_result"
    }
   ],
   "source": [
    "np.full((3,5), 3.14)"
   ],
   "metadata": {
    "collapsed": false,
    "ExecuteTime": {
     "end_time": "2024-01-23T18:00:13.521311200Z",
     "start_time": "2024-01-23T18:00:09.681026200Z"
    }
   },
   "id": "e3412c565e2393c3"
  },
  {
   "cell_type": "code",
   "execution_count": 260,
   "outputs": [
    {
     "data": {
      "text/plain": "array([ 0,  2,  4,  6,  8, 10, 12, 14, 16, 18])"
     },
     "execution_count": 260,
     "metadata": {},
     "output_type": "execute_result"
    }
   ],
   "source": [
    "np.arange(0, 20, 2)"
   ],
   "metadata": {
    "collapsed": false,
    "ExecuteTime": {
     "end_time": "2024-01-23T18:00:13.926557200Z",
     "start_time": "2024-01-23T18:00:09.690636300Z"
    }
   },
   "id": "560bed4eecd3307f"
  },
  {
   "cell_type": "code",
   "execution_count": 261,
   "outputs": [
    {
     "data": {
      "text/plain": "array([0.  , 0.25, 0.5 , 0.75, 1.  ])"
     },
     "execution_count": 261,
     "metadata": {},
     "output_type": "execute_result"
    }
   ],
   "source": [
    "np.linspace(0.0, 1.0, num=5)"
   ],
   "metadata": {
    "collapsed": false,
    "ExecuteTime": {
     "end_time": "2024-01-23T18:00:13.926557200Z",
     "start_time": "2024-01-23T18:00:09.700565500Z"
    }
   },
   "id": "af2dab2c343f66d9"
  },
  {
   "cell_type": "markdown",
   "source": [
    "### Fiding uniq numbers in an array"
   ],
   "metadata": {
    "collapsed": false
   },
   "id": "e4003b8d6e42a4c9"
  },
  {
   "cell_type": "code",
   "execution_count": 262,
   "outputs": [
    {
     "data": {
      "text/plain": "array([1, 2, 3, 4, 5, 7, 9])"
     },
     "execution_count": 262,
     "metadata": {},
     "output_type": "execute_result"
    }
   ],
   "source": [
    "random_array_5 = np.array([1,1,1,2,3,4,5,4,7,9,9])\n",
    "random_array_5\n",
    "np.unique(random_array_5)   # it returns the uniq values that are only on in the NdArray"
   ],
   "metadata": {
    "collapsed": false,
    "ExecuteTime": {
     "end_time": "2024-01-23T18:00:13.927558700Z",
     "start_time": "2024-01-23T18:00:09.712560700Z"
    }
   },
   "id": "6874c54ba5f5df78"
  },
  {
   "cell_type": "markdown",
   "source": [
    "# 3. Viewing aarrays and matrices"
   ],
   "metadata": {
    "collapsed": false
   },
   "id": "f762b7ed601c9652"
  },
  {
   "cell_type": "code",
   "execution_count": 263,
   "outputs": [
    {
     "data": {
      "text/plain": "array([1, 2, 3])"
     },
     "execution_count": 263,
     "metadata": {},
     "output_type": "execute_result"
    }
   ],
   "source": [
    "a1"
   ],
   "metadata": {
    "collapsed": false,
    "ExecuteTime": {
     "end_time": "2024-01-23T18:00:13.927558700Z",
     "start_time": "2024-01-23T18:00:09.721006300Z"
    }
   },
   "id": "27e4ffa3227b594d"
  },
  {
   "cell_type": "code",
   "execution_count": 264,
   "outputs": [
    {
     "data": {
      "text/plain": "array([[1. , 2. , 3.3],\n       [4. , 5. , 6.5]])"
     },
     "execution_count": 264,
     "metadata": {},
     "output_type": "execute_result"
    }
   ],
   "source": [
    "a2"
   ],
   "metadata": {
    "collapsed": false,
    "ExecuteTime": {
     "end_time": "2024-01-23T18:00:14.512484Z",
     "start_time": "2024-01-23T18:00:09.729707100Z"
    }
   },
   "id": "dfc29e220f2f212c"
  },
  {
   "cell_type": "code",
   "execution_count": 265,
   "outputs": [
    {
     "data": {
      "text/plain": "array([[[ 1,  2,  3],\n        [ 4,  5,  6],\n        [ 7,  8,  9]],\n\n       [[10, 11, 12],\n        [13, 14, 15],\n        [16, 17, 18]]])"
     },
     "execution_count": 265,
     "metadata": {},
     "output_type": "execute_result"
    }
   ],
   "source": [
    "a3"
   ],
   "metadata": {
    "collapsed": false,
    "ExecuteTime": {
     "end_time": "2024-01-23T18:00:14.513990500Z",
     "start_time": "2024-01-23T18:00:09.737455600Z"
    }
   },
   "id": "d232991016d9af7f"
  },
  {
   "cell_type": "code",
   "execution_count": 266,
   "outputs": [
    {
     "data": {
      "text/plain": "array([[[ 1,  2],\n        [ 4,  5]],\n\n       [[10, 11],\n        [13, 14]]])"
     },
     "execution_count": 266,
     "metadata": {},
     "output_type": "execute_result"
    }
   ],
   "source": [
    "a3[:2, :2, :2]"
   ],
   "metadata": {
    "collapsed": false,
    "ExecuteTime": {
     "end_time": "2024-01-23T18:00:14.513990500Z",
     "start_time": "2024-01-23T18:00:09.746622400Z"
    }
   },
   "id": "c82eccbfeea65e4"
  },
  {
   "cell_type": "code",
   "execution_count": 267,
   "outputs": [
    {
     "data": {
      "text/plain": "array([[1., 2.],\n       [4., 5.]])"
     },
     "execution_count": 267,
     "metadata": {},
     "output_type": "execute_result"
    }
   ],
   "source": [
    "a2[:2, :2]"
   ],
   "metadata": {
    "collapsed": false,
    "ExecuteTime": {
     "end_time": "2024-01-23T18:00:14.819277400Z",
     "start_time": "2024-01-23T18:00:09.754074600Z"
    }
   },
   "id": "b21cbf5177ac5b92"
  },
  {
   "cell_type": "code",
   "execution_count": 268,
   "outputs": [],
   "source": [
    "a4 = np.random.randint(10, size=(2, 3, 4, 5))# try to undrestand the size"
   ],
   "metadata": {
    "collapsed": false,
    "ExecuteTime": {
     "end_time": "2024-01-23T18:00:14.820277900Z",
     "start_time": "2024-01-23T18:00:09.761736Z"
    }
   },
   "id": "b27276a6c7da41d9"
  },
  {
   "cell_type": "code",
   "execution_count": 269,
   "outputs": [
    {
     "data": {
      "text/plain": "array([[[[2, 4, 7, 7, 9],\n         [1, 7, 0, 6, 9],\n         [9, 7, 6, 9, 1],\n         [0, 1, 8, 8, 3]],\n\n        [[9, 8, 7, 3, 6],\n         [5, 1, 9, 3, 4],\n         [8, 1, 4, 0, 3],\n         [9, 2, 0, 4, 9]],\n\n        [[2, 7, 7, 9, 8],\n         [6, 9, 3, 7, 7],\n         [4, 5, 9, 3, 6],\n         [8, 0, 2, 7, 7]]],\n\n\n       [[[9, 7, 3, 0, 8],\n         [7, 7, 1, 1, 3],\n         [0, 8, 6, 4, 5],\n         [6, 2, 5, 7, 8]],\n\n        [[4, 4, 7, 7, 4],\n         [9, 0, 2, 0, 7],\n         [1, 7, 9, 8, 4],\n         [0, 1, 9, 8, 2]],\n\n        [[3, 1, 2, 7, 2],\n         [6, 0, 9, 2, 6],\n         [6, 2, 7, 7, 0],\n         [6, 5, 1, 4, 6]]]])"
     },
     "execution_count": 269,
     "metadata": {},
     "output_type": "execute_result"
    }
   ],
   "source": [
    "a4#"
   ],
   "metadata": {
    "collapsed": false,
    "ExecuteTime": {
     "end_time": "2024-01-23T18:00:14.820277900Z",
     "start_time": "2024-01-23T18:00:09.768829100Z"
    }
   },
   "id": "c55c1b4592727c51"
  },
  {
   "cell_type": "code",
   "execution_count": 270,
   "outputs": [
    {
     "data": {
      "text/plain": "((2, 3, 4, 5), 4)"
     },
     "execution_count": 270,
     "metadata": {},
     "output_type": "execute_result"
    }
   ],
   "source": [
    "a4.shape, a4.ndim"
   ],
   "metadata": {
    "collapsed": false,
    "ExecuteTime": {
     "end_time": "2024-01-23T18:00:14.820277900Z",
     "start_time": "2024-01-23T18:00:09.780295400Z"
    }
   },
   "id": "bbbbae404472f1b8"
  },
  {
   "cell_type": "code",
   "execution_count": 271,
   "outputs": [],
   "source": [
    "#Get the first 4 numbers in the inner most array"
   ],
   "metadata": {
    "collapsed": false,
    "ExecuteTime": {
     "end_time": "2024-01-23T18:00:15.004006500Z",
     "start_time": "2024-01-23T18:00:09.788755100Z"
    }
   },
   "id": "287e9d99406460ca"
  },
  {
   "cell_type": "code",
   "execution_count": 272,
   "outputs": [
    {
     "data": {
      "text/plain": "array([[[[2, 4, 7, 7],\n         [1, 7, 0, 6],\n         [9, 7, 6, 9],\n         [0, 1, 8, 8]],\n\n        [[9, 8, 7, 3],\n         [5, 1, 9, 3],\n         [8, 1, 4, 0],\n         [9, 2, 0, 4]],\n\n        [[2, 7, 7, 9],\n         [6, 9, 3, 7],\n         [4, 5, 9, 3],\n         [8, 0, 2, 7]]],\n\n\n       [[[9, 7, 3, 0],\n         [7, 7, 1, 1],\n         [0, 8, 6, 4],\n         [6, 2, 5, 7]],\n\n        [[4, 4, 7, 7],\n         [9, 0, 2, 0],\n         [1, 7, 9, 8],\n         [0, 1, 9, 8]],\n\n        [[3, 1, 2, 7],\n         [6, 0, 9, 2],\n         [6, 2, 7, 7],\n         [6, 5, 1, 4]]]])"
     },
     "execution_count": 272,
     "metadata": {},
     "output_type": "execute_result"
    }
   ],
   "source": [
    "a4[:, :, :, :4]"
   ],
   "metadata": {
    "collapsed": false,
    "ExecuteTime": {
     "end_time": "2024-01-23T18:00:15.174218300Z",
     "start_time": "2024-01-23T18:00:09.796399700Z"
    }
   },
   "id": "842493314d657e30"
  },
  {
   "cell_type": "code",
   "execution_count": 273,
   "outputs": [
    {
     "data": {
      "text/plain": "array([[[[2],\n         [1],\n         [9],\n         [0]],\n\n        [[9],\n         [5],\n         [8],\n         [9]],\n\n        [[2],\n         [6],\n         [4],\n         [8]]],\n\n\n       [[[9],\n         [7],\n         [0],\n         [6]],\n\n        [[4],\n         [9],\n         [1],\n         [0]],\n\n        [[3],\n         [6],\n         [6],\n         [6]]]])"
     },
     "execution_count": 273,
     "metadata": {},
     "output_type": "execute_result"
    }
   ],
   "source": [
    "a4[:, :, :, :1]"
   ],
   "metadata": {
    "collapsed": false,
    "ExecuteTime": {
     "end_time": "2024-01-23T18:00:15.174218300Z",
     "start_time": "2024-01-23T18:00:09.804564700Z"
    }
   },
   "id": "c15499e5c30c176f"
  },
  {
   "cell_type": "code",
   "execution_count": 274,
   "outputs": [
    {
     "data": {
      "text/plain": "array([[[[2, 4, 7],\n         [1, 7, 0]],\n\n        [[9, 8, 7],\n         [5, 1, 9]],\n\n        [[2, 7, 7],\n         [6, 9, 3]]],\n\n\n       [[[9, 7, 3],\n         [7, 7, 1]],\n\n        [[4, 4, 7],\n         [9, 0, 2]],\n\n        [[3, 1, 2],\n         [6, 0, 9]]]])"
     },
     "execution_count": 274,
     "metadata": {},
     "output_type": "execute_result"
    }
   ],
   "source": [
    "a4[:, :, :2, :3]"
   ],
   "metadata": {
    "collapsed": false,
    "ExecuteTime": {
     "end_time": "2024-01-23T18:00:15.174218300Z",
     "start_time": "2024-01-23T18:00:09.812707500Z"
    }
   },
   "id": "51c9ebdd79d8ca3c"
  },
  {
   "cell_type": "markdown",
   "source": [
    "# 4. Manipulating & comparing arrays"
   ],
   "metadata": {
    "collapsed": false
   },
   "id": "25d20f10cd83e2f6"
  },
  {
   "cell_type": "markdown",
   "source": [
    "## Arithmetic"
   ],
   "metadata": {
    "collapsed": false
   },
   "id": "ae0129fd250fa78"
  },
  {
   "cell_type": "code",
   "execution_count": 275,
   "outputs": [
    {
     "data": {
      "text/plain": "array([1, 2, 3])"
     },
     "execution_count": 275,
     "metadata": {},
     "output_type": "execute_result"
    }
   ],
   "source": [
    "a1"
   ],
   "metadata": {
    "collapsed": false,
    "ExecuteTime": {
     "end_time": "2024-01-23T18:00:15.174218300Z",
     "start_time": "2024-01-23T18:00:09.821122100Z"
    }
   },
   "id": "4e0a008afcad4737"
  },
  {
   "cell_type": "code",
   "execution_count": 276,
   "outputs": [
    {
     "data": {
      "text/plain": "array([1., 1., 1.])"
     },
     "execution_count": 276,
     "metadata": {},
     "output_type": "execute_result"
    }
   ],
   "source": [
    "ones = np.ones(3)\n",
    "ones"
   ],
   "metadata": {
    "collapsed": false,
    "ExecuteTime": {
     "end_time": "2024-01-23T18:00:15.175733700Z",
     "start_time": "2024-01-23T18:00:09.830989700Z"
    }
   },
   "id": "f725c2d3ca26a05f"
  },
  {
   "cell_type": "code",
   "execution_count": 277,
   "outputs": [
    {
     "data": {
      "text/plain": "array([2., 3., 4.])"
     },
     "execution_count": 277,
     "metadata": {},
     "output_type": "execute_result"
    }
   ],
   "source": [
    "a1 + ones"
   ],
   "metadata": {
    "collapsed": false,
    "ExecuteTime": {
     "end_time": "2024-01-23T18:00:15.175733700Z",
     "start_time": "2024-01-23T18:00:09.838578100Z"
    }
   },
   "id": "7d1bda73a0f959f1"
  },
  {
   "cell_type": "code",
   "execution_count": 278,
   "outputs": [
    {
     "data": {
      "text/plain": "array([0., 1., 2.])"
     },
     "execution_count": 278,
     "metadata": {},
     "output_type": "execute_result"
    }
   ],
   "source": [
    "a1 - ones"
   ],
   "metadata": {
    "collapsed": false,
    "ExecuteTime": {
     "end_time": "2024-01-23T18:00:15.176249100Z",
     "start_time": "2024-01-23T18:00:09.845998100Z"
    }
   },
   "id": "656e0940917a6426"
  },
  {
   "cell_type": "code",
   "execution_count": 279,
   "outputs": [
    {
     "data": {
      "text/plain": "array([1., 2., 3.])"
     },
     "execution_count": 279,
     "metadata": {},
     "output_type": "execute_result"
    }
   ],
   "source": [
    "a1 * ones"
   ],
   "metadata": {
    "collapsed": false,
    "ExecuteTime": {
     "end_time": "2024-01-23T18:00:15.176249100Z",
     "start_time": "2024-01-23T18:00:09.854323100Z"
    }
   },
   "id": "26ad1f8f81bc71d7"
  },
  {
   "cell_type": "code",
   "execution_count": 280,
   "outputs": [
    {
     "data": {
      "text/plain": "array([[1. , 2. , 3.3],\n       [4. , 5. , 6.5]])"
     },
     "execution_count": 280,
     "metadata": {},
     "output_type": "execute_result"
    }
   ],
   "source": [
    "a2 "
   ],
   "metadata": {
    "collapsed": false,
    "ExecuteTime": {
     "end_time": "2024-01-23T18:00:15.176249100Z",
     "start_time": "2024-01-23T18:00:09.859698200Z"
    }
   },
   "id": "c7ce8ce6aa81e923"
  },
  {
   "cell_type": "code",
   "execution_count": 281,
   "outputs": [
    {
     "data": {
      "text/plain": "array([[2. , 4. , 6.3],\n       [5. , 7. , 9.5]])"
     },
     "execution_count": 281,
     "metadata": {},
     "output_type": "execute_result"
    }
   ],
   "source": [
    "a1 + a2"
   ],
   "metadata": {
    "collapsed": false,
    "ExecuteTime": {
     "end_time": "2024-01-23T18:00:15.176249100Z",
     "start_time": "2024-01-23T18:00:09.867212Z"
    }
   },
   "id": "544545703bdc9cc6"
  },
  {
   "cell_type": "code",
   "execution_count": 282,
   "outputs": [
    {
     "data": {
      "text/plain": "array([[ 1. ,  4. ,  9.9],\n       [ 4. , 10. , 19.5]])"
     },
     "execution_count": 282,
     "metadata": {},
     "output_type": "execute_result"
    }
   ],
   "source": [
    "a1 * a2"
   ],
   "metadata": {
    "collapsed": false,
    "ExecuteTime": {
     "end_time": "2024-01-23T18:00:15.177258500Z",
     "start_time": "2024-01-23T18:00:09.874938Z"
    }
   },
   "id": "931aa94a47b9cce8"
  },
  {
   "cell_type": "code",
   "execution_count": 283,
   "outputs": [
    {
     "data": {
      "text/plain": "array([[[ 1,  2,  3],\n        [ 4,  5,  6],\n        [ 7,  8,  9]],\n\n       [[10, 11, 12],\n        [13, 14, 15],\n        [16, 17, 18]]])"
     },
     "execution_count": 283,
     "metadata": {},
     "output_type": "execute_result"
    }
   ],
   "source": [
    "a3"
   ],
   "metadata": {
    "collapsed": false,
    "ExecuteTime": {
     "end_time": "2024-01-23T18:00:15.177258500Z",
     "start_time": "2024-01-23T18:00:09.882449Z"
    }
   },
   "id": "8097734b873328ae"
  },
  {
   "cell_type": "code",
   "execution_count": 284,
   "outputs": [
    {
     "ename": "ValueError",
     "evalue": "operands could not be broadcast together with shapes (2,3) (2,3,3) ",
     "output_type": "error",
     "traceback": [
      "\u001B[1;31m---------------------------------------------------------------------------\u001B[0m",
      "\u001B[1;31mValueError\u001B[0m                                Traceback (most recent call last)",
      "Cell \u001B[1;32mIn[284], line 3\u001B[0m\n\u001B[0;32m      1\u001B[0m \u001B[38;5;66;03m# How can you reshape a2 to be compatible with a3?\u001B[39;00m\n\u001B[0;32m      2\u001B[0m \u001B[38;5;66;03m# search how to reshape numpy array?\u001B[39;00m\n\u001B[1;32m----> 3\u001B[0m \u001B[43ma2\u001B[49m\u001B[43m \u001B[49m\u001B[38;5;241;43m*\u001B[39;49m\u001B[43m \u001B[49m\u001B[43ma3\u001B[49m\n",
      "\u001B[1;31mValueError\u001B[0m: operands could not be broadcast together with shapes (2,3) (2,3,3) "
     ]
    }
   ],
   "source": [
    "# How can you reshape a2 to be compatible with a3?\n",
    "# search how to reshape numpy array?\n",
    "a2 * a3"
   ],
   "metadata": {
    "collapsed": false,
    "ExecuteTime": {
     "end_time": "2024-01-23T18:00:15.178255900Z",
     "start_time": "2024-01-23T18:00:09.892729200Z"
    }
   },
   "id": "69e2cea77bfa1792"
  },
  {
   "cell_type": "code",
   "execution_count": null,
   "outputs": [],
   "source": [
    "a5 = np.array([[1,2,3], [4,5,6]])\n",
    "a5"
   ],
   "metadata": {
    "collapsed": false,
    "ExecuteTime": {
     "start_time": "2024-01-23T18:00:09.911870500Z"
    }
   },
   "id": "542caba476ee73e5"
  },
  {
   "cell_type": "code",
   "execution_count": null,
   "outputs": [],
   "source": [
    "a5.shape"
   ],
   "metadata": {
    "collapsed": false,
    "ExecuteTime": {
     "start_time": "2024-01-23T18:00:09.914372800Z"
    }
   },
   "id": "643ba1d9fc72785a"
  },
  {
   "cell_type": "code",
   "execution_count": null,
   "outputs": [],
   "source": [
    "a5.reshape(3,2)"
   ],
   "metadata": {
    "collapsed": false,
    "ExecuteTime": {
     "start_time": "2024-01-23T18:00:09.917905500Z"
    }
   },
   "id": "3668618afd89c458"
  },
  {
   "cell_type": "code",
   "execution_count": null,
   "outputs": [],
   "source": [
    "a2.shape, a3.shape"
   ],
   "metadata": {
    "collapsed": false,
    "ExecuteTime": {
     "start_time": "2024-01-23T18:00:09.920905800Z"
    }
   },
   "id": "7cbb05ef0d69fb6d"
  },
  {
   "cell_type": "code",
   "execution_count": null,
   "outputs": [],
   "source": [
    "a2.reshape(2,3)"
   ],
   "metadata": {
    "collapsed": false,
    "ExecuteTime": {
     "start_time": "2024-01-23T18:00:09.922907900Z"
    }
   },
   "id": "de116ae1746b381b"
  },
  {
   "cell_type": "code",
   "execution_count": null,
   "outputs": [],
   "source": [
    "a2 * a3"
   ],
   "metadata": {
    "collapsed": false,
    "ExecuteTime": {
     "start_time": "2024-01-23T18:00:09.926421600Z"
    }
   },
   "id": "97c27852565cffd8"
  },
  {
   "cell_type": "code",
   "execution_count": null,
   "outputs": [],
   "source": [
    "a1 / ones"
   ],
   "metadata": {
    "collapsed": false,
    "ExecuteTime": {
     "start_time": "2024-01-23T18:00:09.929426500Z"
    }
   },
   "id": "fc0a4c8bf51e9a8d"
  },
  {
   "cell_type": "code",
   "execution_count": null,
   "outputs": [],
   "source": [
    "# Flooe division... removes the decimals(rounds down)\n",
    "a2 // a1"
   ],
   "metadata": {
    "collapsed": false,
    "ExecuteTime": {
     "start_time": "2024-01-23T18:00:09.932427100Z"
    }
   },
   "id": "ea9386953c5e5591"
  },
  {
   "cell_type": "code",
   "execution_count": null,
   "outputs": [],
   "source": [
    "a2 / a1"
   ],
   "metadata": {
    "collapsed": false,
    "ExecuteTime": {
     "start_time": "2024-01-23T18:00:09.934946900Z"
    }
   },
   "id": "4c0e7207157a9389"
  },
  {
   "cell_type": "code",
   "execution_count": null,
   "outputs": [],
   "source": [
    "a2 ** 2"
   ],
   "metadata": {
    "collapsed": false,
    "ExecuteTime": {
     "start_time": "2024-01-23T18:00:09.937944500Z"
    }
   },
   "id": "11dbc502234df267"
  },
  {
   "cell_type": "code",
   "execution_count": null,
   "outputs": [],
   "source": [
    "np.square(a2)"
   ],
   "metadata": {
    "collapsed": false,
    "ExecuteTime": {
     "start_time": "2024-01-23T18:00:09.940944500Z"
    }
   },
   "id": "f523730288e81c70"
  },
  {
   "cell_type": "code",
   "execution_count": null,
   "outputs": [],
   "source": [
    "np.add(a1 , ones) == a1 + ones"
   ],
   "metadata": {
    "collapsed": false,
    "ExecuteTime": {
     "start_time": "2024-01-23T18:00:09.943945200Z"
    }
   },
   "id": "410fa393c3aa4d37"
  },
  {
   "cell_type": "code",
   "execution_count": null,
   "outputs": [],
   "source": [
    "a1 % 2"
   ],
   "metadata": {
    "collapsed": false,
    "ExecuteTime": {
     "start_time": "2024-01-23T18:00:09.946461400Z"
    }
   },
   "id": "bee8380ba09d0168"
  },
  {
   "cell_type": "code",
   "execution_count": null,
   "outputs": [],
   "source": [
    "a1 / 2"
   ],
   "metadata": {
    "collapsed": false,
    "ExecuteTime": {
     "start_time": "2024-01-23T18:00:09.949460500Z"
    }
   },
   "id": "18af7802f23499b1"
  },
  {
   "cell_type": "code",
   "execution_count": null,
   "outputs": [],
   "source": [
    "a2 % 2"
   ],
   "metadata": {
    "collapsed": false,
    "ExecuteTime": {
     "start_time": "2024-01-23T18:00:09.952461300Z"
    }
   },
   "id": "121b86a7923fc252"
  },
  {
   "cell_type": "code",
   "execution_count": null,
   "outputs": [],
   "source": [
    "np.exp(a1)"
   ],
   "metadata": {
    "collapsed": false,
    "ExecuteTime": {
     "start_time": "2024-01-23T18:00:09.954977600Z"
    }
   },
   "id": "72c1df2b1f0fb79f"
  },
  {
   "cell_type": "code",
   "execution_count": null,
   "outputs": [],
   "source": [
    "np.log(a1)"
   ],
   "metadata": {
    "collapsed": false,
    "ExecuteTime": {
     "start_time": "2024-01-23T18:00:09.958491300Z"
    }
   },
   "id": "5370b244e2ebcde0"
  },
  {
   "cell_type": "markdown",
   "source": [
    "## Aggregation\n",
    "\n",
    "Aggregation = performing the same operatrion on a numer of things"
   ],
   "metadata": {
    "collapsed": false
   },
   "id": "e9f49d5a50b3db68"
  },
  {
   "cell_type": "code",
   "execution_count": null,
   "outputs": [],
   "source": [
    "listy_list = [1, 2, 3]\n",
    "type(listy_list)"
   ],
   "metadata": {
    "collapsed": false,
    "ExecuteTime": {
     "start_time": "2024-01-23T18:00:09.961492200Z"
    }
   },
   "id": "1cff83c8cebc0a19"
  },
  {
   "cell_type": "code",
   "execution_count": null,
   "outputs": [],
   "source": [
    "sum(listy_list)"
   ],
   "metadata": {
    "collapsed": false,
    "ExecuteTime": {
     "start_time": "2024-01-23T18:00:09.965014600Z"
    }
   },
   "id": "79c628f636057db9"
  },
  {
   "cell_type": "code",
   "execution_count": null,
   "outputs": [],
   "source": [
    "a1, a2"
   ],
   "metadata": {
    "collapsed": false,
    "ExecuteTime": {
     "start_time": "2024-01-23T18:00:09.968016Z"
    }
   },
   "id": "9de81d27420bd12b"
  },
  {
   "cell_type": "code",
   "execution_count": null,
   "outputs": [],
   "source": [
    "type(a1)"
   ],
   "metadata": {
    "collapsed": false,
    "ExecuteTime": {
     "start_time": "2024-01-23T18:00:09.971018200Z"
    }
   },
   "id": "730d8cea4f06a55a"
  },
  {
   "cell_type": "code",
   "execution_count": null,
   "outputs": [],
   "source": [
    "sum(a1)"
   ],
   "metadata": {
    "collapsed": false,
    "ExecuteTime": {
     "start_time": "2024-01-23T18:00:09.974020100Z"
    }
   },
   "id": "782dad70545d13bb"
  },
  {
   "cell_type": "code",
   "execution_count": null,
   "outputs": [],
   "source": [
    "np.sum(a1)"
   ],
   "metadata": {
    "collapsed": false,
    "ExecuteTime": {
     "start_time": "2024-01-23T18:00:09.976185300Z"
    }
   },
   "id": "6355460cd9fefc82"
  },
  {
   "cell_type": "markdown",
   "source": [
    "Use pythons methods(Sum()) on python data types and use NumPy methods(np.sum()) on NumPy"
   ],
   "metadata": {
    "collapsed": false
   },
   "id": "974afa328550cc2e"
  },
  {
   "cell_type": "code",
   "execution_count": null,
   "outputs": [],
   "source": [
    "# Creative a massive NumPy array\n",
    "massive_array = np.random.random(100000)\n",
    "massive_array.size"
   ],
   "metadata": {
    "collapsed": false,
    "ExecuteTime": {
     "start_time": "2024-01-23T18:00:09.979181600Z"
    }
   },
   "id": "7f7f072a8e732bf5"
  },
  {
   "cell_type": "code",
   "execution_count": null,
   "outputs": [],
   "source": [
    "massive_array"
   ],
   "metadata": {
    "collapsed": false,
    "ExecuteTime": {
     "start_time": "2024-01-23T18:00:09.982180600Z"
    }
   },
   "id": "111ec19bf706b1df"
  },
  {
   "cell_type": "code",
   "execution_count": null,
   "outputs": [],
   "source": [
    "# %timeit checlks how long a particular line of code takes to run\n",
    "%timeit sum(massive_array)    # Python's method    sum()\n",
    "%timeit np.sum(massive_array) # NumPy's method     np.sum()"
   ],
   "metadata": {
    "collapsed": false,
    "ExecuteTime": {
     "start_time": "2024-01-23T18:00:09.985701Z"
    }
   },
   "id": "4b13da5bea29bfa3"
  },
  {
   "cell_type": "code",
   "execution_count": null,
   "outputs": [],
   "source": [
    "a2"
   ],
   "metadata": {
    "collapsed": false,
    "ExecuteTime": {
     "start_time": "2024-01-23T18:00:09.988882Z"
    }
   },
   "id": "117da94f9917310f"
  },
  {
   "cell_type": "code",
   "execution_count": null,
   "outputs": [],
   "source": [
    "np.mean(a2)"
   ],
   "metadata": {
    "collapsed": false,
    "ExecuteTime": {
     "start_time": "2024-01-23T18:00:09.991533600Z"
    }
   },
   "id": "27d2405e7cda6bb2"
  },
  {
   "cell_type": "code",
   "execution_count": null,
   "outputs": [],
   "source": [
    "np.max(a2)"
   ],
   "metadata": {
    "collapsed": false,
    "ExecuteTime": {
     "start_time": "2024-01-23T18:00:09.994713700Z"
    }
   },
   "id": "226df52c6e0e264b"
  },
  {
   "cell_type": "code",
   "execution_count": null,
   "outputs": [],
   "source": [
    "np.mean(a2)"
   ],
   "metadata": {
    "collapsed": false,
    "ExecuteTime": {
     "start_time": "2024-01-23T18:00:09.997378500Z"
    }
   },
   "id": "47793e8a7d5ec009"
  },
  {
   "cell_type": "code",
   "execution_count": null,
   "outputs": [],
   "source": [
    "# standard deviation = a measure of how spreade out a group of numbers is from the mean\n",
    "# \n",
    "np.std(a2)"
   ],
   "metadata": {
    "collapsed": false,
    "ExecuteTime": {
     "start_time": "2024-01-23T18:00:10.000530100Z"
    }
   },
   "id": "ed8d7e2163d3ee84"
  },
  {
   "cell_type": "code",
   "execution_count": null,
   "outputs": [],
   "source": [
    "# variance = measure of the average degree to which each number is different to the mean\n",
    "# Higher variance = wider range of numbers\n",
    "# Lower variance =  lower range of numbers\n",
    "np.var(a2)"
   ],
   "metadata": {
    "collapsed": false,
    "ExecuteTime": {
     "start_time": "2024-01-23T18:00:10.002530300Z"
    }
   },
   "id": "e4e00ac5b006fa77"
  },
  {
   "cell_type": "code",
   "execution_count": null,
   "outputs": [],
   "source": [
    "# standard devision = square root of variance\n",
    "np.sqrt(np.var(a2))"
   ],
   "metadata": {
    "collapsed": false,
    "ExecuteTime": {
     "start_time": "2024-01-23T18:00:10.005050100Z"
    }
   },
   "id": "c4e0951bcb05fddb"
  },
  {
   "cell_type": "code",
   "execution_count": null,
   "outputs": [],
   "source": [
    "datafram = pd.DataFrame(np.random.randint(1,10, size=(5, 3)), columns=['a', 'b', 'c'])"
   ],
   "metadata": {
    "collapsed": false,
    "ExecuteTime": {
     "start_time": "2024-01-23T18:00:10.007568900Z"
    }
   },
   "id": "bf2befae6af007d0"
  },
  {
   "cell_type": "code",
   "execution_count": null,
   "outputs": [],
   "source": [
    "datafram"
   ],
   "metadata": {
    "collapsed": false,
    "ExecuteTime": {
     "start_time": "2024-01-23T18:00:10.009089400Z"
    }
   },
   "id": "4e03e423cf1bc982"
  },
  {
   "cell_type": "markdown",
   "source": [
    "## Reshaping & transposing"
   ],
   "metadata": {
    "collapsed": false
   },
   "id": "6be7fdac9153ea11"
  },
  {
   "cell_type": "code",
   "execution_count": null,
   "outputs": [],
   "source": [
    "a2"
   ],
   "metadata": {
    "collapsed": false,
    "ExecuteTime": {
     "start_time": "2024-01-23T18:00:10.011092400Z"
    }
   },
   "id": "fa3a1e41ddfa0b9c"
  },
  {
   "cell_type": "code",
   "execution_count": null,
   "outputs": [],
   "source": [
    "a3"
   ],
   "metadata": {
    "collapsed": false,
    "ExecuteTime": {
     "start_time": "2024-01-23T18:00:10.013088600Z"
    }
   },
   "id": "86bfb11512a41913"
  },
  {
   "cell_type": "code",
   "execution_count": null,
   "outputs": [],
   "source": [
    "a3.shape"
   ],
   "metadata": {
    "collapsed": false,
    "ExecuteTime": {
     "start_time": "2024-01-23T18:00:10.015501500Z"
    }
   },
   "id": "faec1ff673f00173"
  },
  {
   "cell_type": "code",
   "execution_count": null,
   "outputs": [],
   "source": [
    "a2 * a3"
   ],
   "metadata": {
    "collapsed": false,
    "ExecuteTime": {
     "start_time": "2024-01-23T18:00:10.017500Z"
    }
   },
   "id": "3f053b2b1a7aebd1"
  },
  {
   "cell_type": "code",
   "execution_count": null,
   "outputs": [],
   "source": [
    "a2_reshaped = a2.reshape((2,3,1)).shape"
   ],
   "metadata": {
    "collapsed": false,
    "ExecuteTime": {
     "start_time": "2024-01-23T18:00:10.019499900Z"
    }
   },
   "id": "f6702b2170f1d088"
  },
  {
   "cell_type": "code",
   "execution_count": null,
   "outputs": [],
   "source": [
    "a3.shape"
   ],
   "metadata": {
    "collapsed": false,
    "ExecuteTime": {
     "start_time": "2024-01-23T18:00:10.021500400Z"
    }
   },
   "id": "ea241fdef76bef89"
  },
  {
   "cell_type": "code",
   "execution_count": null,
   "outputs": [],
   "source": [
    "a3 * a2_reshaped "
   ],
   "metadata": {
    "collapsed": false,
    "ExecuteTime": {
     "start_time": "2024-01-23T18:00:10.022504Z"
    }
   },
   "id": "a36b5b069e54aa22"
  },
  {
   "cell_type": "code",
   "execution_count": null,
   "outputs": [],
   "source": [
    "# TransPose = switches the axis'\n",
    "a2.T.shape"
   ],
   "metadata": {
    "collapsed": false,
    "ExecuteTime": {
     "start_time": "2024-01-23T18:00:10.025025900Z"
    }
   },
   "id": "133d4fc77809689a"
  },
  {
   "cell_type": "code",
   "execution_count": null,
   "outputs": [],
   "source": [
    "a2.T.T"
   ],
   "metadata": {
    "collapsed": false,
    "ExecuteTime": {
     "start_time": "2024-01-23T18:00:10.027020500Z"
    }
   },
   "id": "696e266fba20cffb"
  },
  {
   "cell_type": "code",
   "execution_count": null,
   "outputs": [],
   "source": [
    "a3.shape"
   ],
   "metadata": {
    "collapsed": false,
    "ExecuteTime": {
     "start_time": "2024-01-23T18:00:10.029025300Z"
    }
   },
   "id": "2a546465e44d29c9"
  },
  {
   "cell_type": "code",
   "execution_count": null,
   "outputs": [],
   "source": [
    "a3.T.shape"
   ],
   "metadata": {
    "collapsed": false,
    "ExecuteTime": {
     "start_time": "2024-01-23T18:00:10.031024900Z"
    }
   },
   "id": "be155b612c30c3fe"
  },
  {
   "cell_type": "markdown",
   "source": [
    "## Dot Product"
   ],
   "metadata": {
    "collapsed": false
   },
   "id": "db213e8e25a8e865"
  },
  {
   "cell_type": "code",
   "execution_count": null,
   "outputs": [],
   "source": [
    "np.random.seed(0)\n",
    "\n",
    "mat1 = np.random.randint(10, size=(5, 3))\n",
    "mat2 = np.random.randint(10, size=(5, 3))\n",
    "mat1"
   ],
   "metadata": {
    "collapsed": false,
    "ExecuteTime": {
     "start_time": "2024-01-23T18:00:10.033021300Z"
    }
   },
   "id": "58decf17f2b2c4bb"
  },
  {
   "cell_type": "code",
   "execution_count": null,
   "outputs": [],
   "source": [
    "mat2"
   ],
   "metadata": {
    "collapsed": false,
    "ExecuteTime": {
     "start_time": "2024-01-23T18:00:10.034021800Z"
    }
   },
   "id": "7d60a776b405d0ff"
  },
  {
   "cell_type": "code",
   "execution_count": null,
   "outputs": [],
   "source": [
    "mat1.shape, mat2.shape"
   ],
   "metadata": {
    "collapsed": false,
    "ExecuteTime": {
     "start_time": "2024-01-23T18:00:10.036956100Z"
    }
   },
   "id": "cfca19d7f8d3f85"
  },
  {
   "cell_type": "code",
   "execution_count": null,
   "outputs": [],
   "source": [
    "# Elemnt-Wise multiplication (Hadamard product)\n",
    "mat1 * mat2"
   ],
   "metadata": {
    "collapsed": false,
    "ExecuteTime": {
     "start_time": "2024-01-23T18:00:10.038956300Z"
    }
   },
   "id": "191e5fb2df1c569b"
  },
  {
   "cell_type": "code",
   "execution_count": null,
   "outputs": [],
   "source": [
    "# Dot Product\n",
    "np.dot(mat1, mat2 )"
   ],
   "metadata": {
    "collapsed": false,
    "ExecuteTime": {
     "start_time": "2024-01-23T18:00:10.040931800Z"
    }
   },
   "id": "a1ba2d0c7f6b9208"
  },
  {
   "cell_type": "code",
   "execution_count": null,
   "outputs": [],
   "source": [
    "mat3 = np.dot(mat1, mat2.T) "
   ],
   "metadata": {
    "collapsed": false,
    "ExecuteTime": {
     "start_time": "2024-01-23T18:00:10.042929200Z"
    }
   },
   "id": "a0aa5f5f635faaa0"
  },
  {
   "cell_type": "code",
   "execution_count": null,
   "outputs": [],
   "source": [
    "mat3"
   ],
   "metadata": {
    "collapsed": false,
    "ExecuteTime": {
     "start_time": "2024-01-23T18:00:10.043928100Z"
    }
   },
   "id": "3bf11e7f4f5e2456"
  },
  {
   "cell_type": "markdown",
   "source": [
    "### Dot Products examples (Nut butter sales)"
   ],
   "metadata": {
    "collapsed": false
   },
   "id": "c7f7552655e71dac"
  },
  {
   "cell_type": "code",
   "execution_count": 309,
   "outputs": [],
   "source": [
    "import pandas as pd\n",
    "import numpy as np\n",
    "import matplotlib.pyplot as plt"
   ],
   "metadata": {
    "collapsed": false,
    "ExecuteTime": {
     "end_time": "2024-01-23T18:04:38.744654200Z",
     "start_time": "2024-01-23T18:04:38.003068100Z"
    }
   },
   "id": "4770c75454e63e4"
  },
  {
   "cell_type": "code",
   "execution_count": 310,
   "outputs": [],
   "source": [
    "mon = np.array([2, 7, 1])\n",
    "tues = np.array([9, 4, 16])\n",
    "wed = np.array([11, 14, 18])\n",
    "thurs = np.array([13, 13, 9])\n",
    "fri = np.array([15, 18, 9])"
   ],
   "metadata": {
    "collapsed": false,
    "ExecuteTime": {
     "end_time": "2024-01-23T18:04:38.745187100Z",
     "start_time": "2024-01-23T18:04:38.728359800Z"
    }
   },
   "id": "7a6a7d45cb26d0d4"
  },
  {
   "cell_type": "code",
   "execution_count": 311,
   "outputs": [],
   "source": [
    "price = np.array([10, 8, 12])"
   ],
   "metadata": {
    "collapsed": false,
    "ExecuteTime": {
     "end_time": "2024-01-23T18:04:38.745718Z",
     "start_time": "2024-01-23T18:04:38.732803400Z"
    }
   },
   "id": "929fe5fc15cba57a"
  },
  {
   "cell_type": "code",
   "execution_count": 312,
   "outputs": [],
   "source": [
    "sales = pd.DataFrame([mon, tues, wed, thurs, fri], columns=(\"Almond\", \"peanut\", \"cashew\"), index=(\"Mon\", \"Tues\", \"Wed\",\"Thurs\",\"Fri\"))"
   ],
   "metadata": {
    "collapsed": false,
    "ExecuteTime": {
     "end_time": "2024-01-23T18:04:38.822156900Z",
     "start_time": "2024-01-23T18:04:38.745718Z"
    }
   },
   "id": "7dad433f730aa85e"
  },
  {
   "cell_type": "code",
   "execution_count": 313,
   "outputs": [
    {
     "data": {
      "text/plain": "       Almond  peanut  cashew\nMon         2       7       1\nTues        9       4      16\nWed        11      14      18\nThurs      13      13       9\nFri        15      18       9",
      "text/html": "<div>\n<style scoped>\n    .dataframe tbody tr th:only-of-type {\n        vertical-align: middle;\n    }\n\n    .dataframe tbody tr th {\n        vertical-align: top;\n    }\n\n    .dataframe thead th {\n        text-align: right;\n    }\n</style>\n<table border=\"1\" class=\"dataframe\">\n  <thead>\n    <tr style=\"text-align: right;\">\n      <th></th>\n      <th>Almond</th>\n      <th>peanut</th>\n      <th>cashew</th>\n    </tr>\n  </thead>\n  <tbody>\n    <tr>\n      <th>Mon</th>\n      <td>2</td>\n      <td>7</td>\n      <td>1</td>\n    </tr>\n    <tr>\n      <th>Tues</th>\n      <td>9</td>\n      <td>4</td>\n      <td>16</td>\n    </tr>\n    <tr>\n      <th>Wed</th>\n      <td>11</td>\n      <td>14</td>\n      <td>18</td>\n    </tr>\n    <tr>\n      <th>Thurs</th>\n      <td>13</td>\n      <td>13</td>\n      <td>9</td>\n    </tr>\n    <tr>\n      <th>Fri</th>\n      <td>15</td>\n      <td>18</td>\n      <td>9</td>\n    </tr>\n  </tbody>\n</table>\n</div>"
     },
     "execution_count": 313,
     "metadata": {},
     "output_type": "execute_result"
    }
   ],
   "source": [
    "sales"
   ],
   "metadata": {
    "collapsed": false,
    "ExecuteTime": {
     "end_time": "2024-01-23T18:04:38.823671800Z",
     "start_time": "2024-01-23T18:04:38.751124500Z"
    }
   },
   "id": "5919cf262418a398"
  },
  {
   "cell_type": "code",
   "execution_count": 314,
   "outputs": [],
   "source": [
    "sales[\"Total ($)\"] = np.dot(sales, price)"
   ],
   "metadata": {
    "collapsed": false,
    "ExecuteTime": {
     "end_time": "2024-01-23T18:04:38.823671800Z",
     "start_time": "2024-01-23T18:04:38.761301500Z"
    }
   },
   "id": "8349c8c778f366d2"
  },
  {
   "cell_type": "code",
   "execution_count": 316,
   "outputs": [
    {
     "data": {
      "text/plain": "       Almond  peanut  cashew  Total ($)\nMon         2       7       1         88\nTues        9       4      16        314\nWed        11      14      18        438\nThurs      13      13       9        342\nFri        15      18       9        402",
      "text/html": "<div>\n<style scoped>\n    .dataframe tbody tr th:only-of-type {\n        vertical-align: middle;\n    }\n\n    .dataframe tbody tr th {\n        vertical-align: top;\n    }\n\n    .dataframe thead th {\n        text-align: right;\n    }\n</style>\n<table border=\"1\" class=\"dataframe\">\n  <thead>\n    <tr style=\"text-align: right;\">\n      <th></th>\n      <th>Almond</th>\n      <th>peanut</th>\n      <th>cashew</th>\n      <th>Total ($)</th>\n    </tr>\n  </thead>\n  <tbody>\n    <tr>\n      <th>Mon</th>\n      <td>2</td>\n      <td>7</td>\n      <td>1</td>\n      <td>88</td>\n    </tr>\n    <tr>\n      <th>Tues</th>\n      <td>9</td>\n      <td>4</td>\n      <td>16</td>\n      <td>314</td>\n    </tr>\n    <tr>\n      <th>Wed</th>\n      <td>11</td>\n      <td>14</td>\n      <td>18</td>\n      <td>438</td>\n    </tr>\n    <tr>\n      <th>Thurs</th>\n      <td>13</td>\n      <td>13</td>\n      <td>9</td>\n      <td>342</td>\n    </tr>\n    <tr>\n      <th>Fri</th>\n      <td>15</td>\n      <td>18</td>\n      <td>9</td>\n      <td>402</td>\n    </tr>\n  </tbody>\n</table>\n</div>"
     },
     "execution_count": 316,
     "metadata": {},
     "output_type": "execute_result"
    }
   ],
   "source": [
    "sales"
   ],
   "metadata": {
    "collapsed": false,
    "ExecuteTime": {
     "end_time": "2024-01-23T18:06:49.845275300Z",
     "start_time": "2024-01-23T18:06:49.699829100Z"
    }
   },
   "id": "edb9d073f5bc260b"
  },
  {
   "cell_type": "markdown",
   "source": [
    "### Comparrision Operators"
   ],
   "metadata": {
    "collapsed": false
   },
   "id": "1b34cfa470bd2e18"
  },
  {
   "cell_type": "code",
   "execution_count": 317,
   "outputs": [
    {
     "data": {
      "text/plain": "array([1, 2, 3])"
     },
     "execution_count": 317,
     "metadata": {},
     "output_type": "execute_result"
    }
   ],
   "source": [
    "a1"
   ],
   "metadata": {
    "collapsed": false,
    "ExecuteTime": {
     "end_time": "2024-01-23T18:07:16.136625500Z",
     "start_time": "2024-01-23T18:07:16.032632900Z"
    }
   },
   "id": "f4187a094ed7604d"
  },
  {
   "cell_type": "code",
   "execution_count": 318,
   "outputs": [
    {
     "data": {
      "text/plain": "array([[1. , 2. , 3.3],\n       [4. , 5. , 6.5]])"
     },
     "execution_count": 318,
     "metadata": {},
     "output_type": "execute_result"
    }
   ],
   "source": [
    "a2"
   ],
   "metadata": {
    "collapsed": false,
    "ExecuteTime": {
     "end_time": "2024-01-23T18:07:20.792180500Z",
     "start_time": "2024-01-23T18:07:20.644121300Z"
    }
   },
   "id": "fdc930a01f13fa58"
  },
  {
   "cell_type": "code",
   "execution_count": 319,
   "outputs": [
    {
     "data": {
      "text/plain": "array([[False, False, False],\n       [False, False, False]])"
     },
     "execution_count": 319,
     "metadata": {},
     "output_type": "execute_result"
    }
   ],
   "source": [
    "a1 > a2"
   ],
   "metadata": {
    "collapsed": false,
    "ExecuteTime": {
     "end_time": "2024-01-23T18:07:26.443125Z",
     "start_time": "2024-01-23T18:07:26.321470500Z"
    }
   },
   "id": "318de68f4a0f7b4f"
  },
  {
   "cell_type": "code",
   "execution_count": 322,
   "outputs": [
    {
     "data": {
      "text/plain": "array([[ True,  True, False],\n       [False, False, False]])"
     },
     "execution_count": 322,
     "metadata": {},
     "output_type": "execute_result"
    }
   ],
   "source": [
    "bool_arraya = a1 >= a2\n",
    "bool_arraya"
   ],
   "metadata": {
    "collapsed": false,
    "ExecuteTime": {
     "end_time": "2024-01-23T18:18:21.954747700Z",
     "start_time": "2024-01-23T18:18:21.906088800Z"
    }
   },
   "id": "a227481595d432bf"
  },
  {
   "cell_type": "code",
   "execution_count": 323,
   "outputs": [
    {
     "data": {
      "text/plain": "array([[ True,  True, False],\n       [False, False, False]])"
     },
     "execution_count": 323,
     "metadata": {},
     "output_type": "execute_result"
    }
   ],
   "source": [
    "a1 == a2"
   ],
   "metadata": {
    "collapsed": false,
    "ExecuteTime": {
     "end_time": "2024-01-23T18:18:29.778664700Z",
     "start_time": "2024-01-23T18:18:29.732780100Z"
    }
   },
   "id": "a43d4bd049f1e772"
  },
  {
   "cell_type": "markdown",
   "source": [
    " # 5. Sorting"
   ],
   "metadata": {
    "collapsed": false
   },
   "id": "69b008b31587b713"
  },
  {
   "cell_type": "code",
   "execution_count": 325,
   "outputs": [],
   "source": [
    "random_array = np.random.randint(10, size=(3,5))"
   ],
   "metadata": {
    "collapsed": false,
    "ExecuteTime": {
     "end_time": "2024-01-23T18:35:37.213026Z",
     "start_time": "2024-01-23T18:35:37.117409Z"
    }
   },
   "id": "649096b4c8e5ac8d"
  },
  {
   "cell_type": "code",
   "execution_count": 326,
   "outputs": [
    {
     "data": {
      "text/plain": "array([[9, 3, 9, 1, 4],\n       [4, 6, 8, 8, 9],\n       [2, 7, 5, 5, 4]])"
     },
     "execution_count": 326,
     "metadata": {},
     "output_type": "execute_result"
    }
   ],
   "source": [
    "random_array"
   ],
   "metadata": {
    "collapsed": false,
    "ExecuteTime": {
     "end_time": "2024-01-23T18:35:40.952150Z",
     "start_time": "2024-01-23T18:35:40.796215500Z"
    }
   },
   "id": "925b1451d041f996"
  },
  {
   "cell_type": "code",
   "execution_count": 327,
   "outputs": [
    {
     "data": {
      "text/plain": "(3, 5)"
     },
     "execution_count": 327,
     "metadata": {},
     "output_type": "execute_result"
    }
   ],
   "source": [
    "random_array.shape"
   ],
   "metadata": {
    "collapsed": false,
    "ExecuteTime": {
     "end_time": "2024-01-23T18:35:55.550371100Z",
     "start_time": "2024-01-23T18:35:55.405777900Z"
    }
   },
   "id": "2e6c541b912d5b7b"
  },
  {
   "cell_type": "code",
   "execution_count": 328,
   "outputs": [
    {
     "data": {
      "text/plain": "array([[1, 3, 4, 9, 9],\n       [4, 6, 8, 8, 9],\n       [2, 4, 5, 5, 7]])"
     },
     "execution_count": 328,
     "metadata": {},
     "output_type": "execute_result"
    }
   ],
   "source": [
    "np.sort(random_array)"
   ],
   "metadata": {
    "collapsed": false,
    "ExecuteTime": {
     "end_time": "2024-01-23T18:36:36.677256700Z",
     "start_time": "2024-01-23T18:36:36.541494Z"
    }
   },
   "id": "d08530235ac74d7"
  },
  {
   "cell_type": "code",
   "execution_count": 329,
   "outputs": [
    {
     "data": {
      "text/plain": "array([[3, 1, 4, 0, 2],\n       [0, 1, 2, 3, 4],\n       [0, 4, 2, 3, 1]], dtype=int64)"
     },
     "execution_count": 329,
     "metadata": {},
     "output_type": "execute_result"
    }
   ],
   "source": [
    "np.argsort(random_array)"
   ],
   "metadata": {
    "collapsed": false,
    "ExecuteTime": {
     "end_time": "2024-01-23T18:37:14.206907900Z",
     "start_time": "2024-01-23T18:37:14.109758900Z"
    }
   },
   "id": "9358edf03b969b07"
  },
  {
   "cell_type": "code",
   "execution_count": 330,
   "outputs": [
    {
     "data": {
      "text/plain": "array([1, 2, 3])"
     },
     "execution_count": 330,
     "metadata": {},
     "output_type": "execute_result"
    }
   ],
   "source": [
    "a1"
   ],
   "metadata": {
    "collapsed": false,
    "ExecuteTime": {
     "end_time": "2024-01-23T18:37:47.891059700Z",
     "start_time": "2024-01-23T18:37:47.742787900Z"
    }
   },
   "id": "486e70c149ac479"
  },
  {
   "cell_type": "code",
   "execution_count": 331,
   "outputs": [
    {
     "data": {
      "text/plain": "array([0, 1, 2], dtype=int64)"
     },
     "execution_count": 331,
     "metadata": {},
     "output_type": "execute_result"
    }
   ],
   "source": [
    "np.argsort(a1)"
   ],
   "metadata": {
    "collapsed": false,
    "ExecuteTime": {
     "end_time": "2024-01-23T18:37:53.918667Z",
     "start_time": "2024-01-23T18:37:53.786977200Z"
    }
   },
   "id": "c05aba23f0bb0d4d"
  },
  {
   "cell_type": "code",
   "execution_count": 334,
   "outputs": [
    {
     "data": {
      "text/plain": "0"
     },
     "execution_count": 334,
     "metadata": {},
     "output_type": "execute_result"
    }
   ],
   "source": [
    "np.argmin(a1)"
   ],
   "metadata": {
    "collapsed": false,
    "ExecuteTime": {
     "end_time": "2024-01-23T18:38:54.593076200Z",
     "start_time": "2024-01-23T18:38:54.533205400Z"
    }
   },
   "id": "a95f631588ae2a81"
  },
  {
   "cell_type": "code",
   "execution_count": 335,
   "outputs": [
    {
     "data": {
      "text/plain": "2"
     },
     "execution_count": 335,
     "metadata": {},
     "output_type": "execute_result"
    }
   ],
   "source": [
    "np.argmax(a1)"
   ],
   "metadata": {
    "collapsed": false,
    "ExecuteTime": {
     "end_time": "2024-01-23T18:38:57.102552100Z",
     "start_time": "2024-01-23T18:38:57.056310100Z"
    }
   },
   "id": "140d20a67dbe9bf1"
  },
  {
   "cell_type": "code",
   "execution_count": 337,
   "outputs": [
    {
     "data": {
      "text/plain": "array([0, 2, 0, 1, 1], dtype=int64)"
     },
     "execution_count": 337,
     "metadata": {},
     "output_type": "execute_result"
    }
   ],
   "source": [
    "np.argmax(random_array, axis=0)"
   ],
   "metadata": {
    "collapsed": false,
    "ExecuteTime": {
     "end_time": "2024-01-23T18:39:46.999643400Z",
     "start_time": "2024-01-23T18:39:46.955384Z"
    }
   },
   "id": "86bad7e1e16d3509"
  },
  {
   "cell_type": "code",
   "execution_count": 338,
   "outputs": [
    {
     "data": {
      "text/plain": "array([0, 4, 1], dtype=int64)"
     },
     "execution_count": 338,
     "metadata": {},
     "output_type": "execute_result"
    }
   ],
   "source": [
    "np.argmax(random_array, axis=1)"
   ],
   "metadata": {
    "collapsed": false,
    "ExecuteTime": {
     "end_time": "2024-01-23T18:41:24.959738600Z",
     "start_time": "2024-01-23T18:41:24.841875Z"
    }
   },
   "id": "93630e247d14defc"
  },
  {
   "cell_type": "markdown",
   "source": [
    "# 6. Practical Examples - NumPy in Action!!!  "
   ],
   "metadata": {
    "collapsed": false
   },
   "id": "78b5ea520b89571b"
  },
  {
   "cell_type": "code",
   "execution_count": 340,
   "outputs": [],
   "source": [
    "# panda image in the numpy images..."
   ],
   "metadata": {
    "collapsed": false,
    "ExecuteTime": {
     "end_time": "2024-01-23T18:50:04.432251700Z",
     "start_time": "2024-01-23T18:50:04.369033900Z"
    }
   },
   "id": "65e0912fb394a321"
  },
  {
   "cell_type": "markdown",
   "source": [
    "## Turning images into NumPy array"
   ],
   "metadata": {
    "collapsed": false
   },
   "id": "a992af74f12cd43b"
  },
  {
   "cell_type": "code",
   "execution_count": 342,
   "outputs": [
    {
     "name": "stdout",
     "output_type": "stream",
     "text": [
      "<class 'numpy.ndarray'>\n"
     ]
    }
   ],
   "source": [
    "from matplotlib.image import imread\n",
    "\n",
    "panda = imread(\"panda.png\")\n",
    "print(type(panda))"
   ],
   "metadata": {
    "collapsed": false,
    "ExecuteTime": {
     "end_time": "2024-01-23T18:52:51.470824Z",
     "start_time": "2024-01-23T18:52:51.226567200Z"
    }
   },
   "id": "67d3cb07d82829e"
  },
  {
   "cell_type": "code",
   "execution_count": 344,
   "outputs": [
    {
     "data": {
      "text/plain": "(24465000, (2330, 3500, 3), 3)"
     },
     "execution_count": 344,
     "metadata": {},
     "output_type": "execute_result"
    }
   ],
   "source": [
    "panda.size, panda.shape, panda.ndim"
   ],
   "metadata": {
    "collapsed": false,
    "ExecuteTime": {
     "end_time": "2024-01-23T18:53:34.964596100Z",
     "start_time": "2024-01-23T18:53:34.902020200Z"
    }
   },
   "id": "8145df67e8fd006e"
  },
  {
   "cell_type": "code",
   "execution_count": 345,
   "outputs": [
    {
     "data": {
      "text/plain": "array([[[0.05490196, 0.10588235, 0.06666667],\n        [0.05490196, 0.10588235, 0.06666667],\n        [0.05490196, 0.10588235, 0.06666667],\n        ...,\n        [0.16470589, 0.12941177, 0.09411765],\n        [0.16470589, 0.12941177, 0.09411765],\n        [0.16470589, 0.12941177, 0.09411765]],\n\n       [[0.05490196, 0.10588235, 0.06666667],\n        [0.05490196, 0.10588235, 0.06666667],\n        [0.05490196, 0.10588235, 0.06666667],\n        ...,\n        [0.16470589, 0.12941177, 0.09411765],\n        [0.16470589, 0.12941177, 0.09411765],\n        [0.16470589, 0.12941177, 0.09411765]],\n\n       [[0.05490196, 0.10588235, 0.06666667],\n        [0.05490196, 0.10588235, 0.06666667],\n        [0.05490196, 0.10588235, 0.06666667],\n        ...,\n        [0.16470589, 0.12941177, 0.09411765],\n        [0.16470589, 0.12941177, 0.09411765],\n        [0.16470589, 0.12941177, 0.09411765]],\n\n       [[0.05490196, 0.10588235, 0.06666667],\n        [0.05490196, 0.10588235, 0.06666667],\n        [0.05490196, 0.10588235, 0.06666667],\n        ...,\n        [0.16862746, 0.13333334, 0.09803922],\n        [0.16862746, 0.13333334, 0.09803922],\n        [0.16862746, 0.13333334, 0.09803922]],\n\n       [[0.05490196, 0.10588235, 0.06666667],\n        [0.05490196, 0.10588235, 0.06666667],\n        [0.05490196, 0.10588235, 0.06666667],\n        ...,\n        [0.16862746, 0.13333334, 0.09803922],\n        [0.16862746, 0.13333334, 0.09803922],\n        [0.16862746, 0.13333334, 0.09803922]]], dtype=float32)"
     },
     "execution_count": 345,
     "metadata": {},
     "output_type": "execute_result"
    }
   ],
   "source": [
    "panda[:5]"
   ],
   "metadata": {
    "collapsed": false,
    "ExecuteTime": {
     "end_time": "2024-01-23T18:54:01.959880300Z",
     "start_time": "2024-01-23T18:54:01.847374Z"
    }
   },
   "id": "13758dd048d50e7"
  },
  {
   "cell_type": "code",
   "execution_count": 346,
   "outputs": [],
   "source": [
    "# Car\n",
    "car = imread(\"car-photo.png\")"
   ],
   "metadata": {
    "collapsed": false,
    "ExecuteTime": {
     "end_time": "2024-01-23T18:55:00.164923Z",
     "start_time": "2024-01-23T18:54:59.974506300Z"
    }
   },
   "id": "ca3235d8ee4edb90"
  },
  {
   "cell_type": "code",
   "execution_count": 347,
   "outputs": [
    {
     "data": {
      "text/plain": "array([[[0.5019608 , 0.50980395, 0.4862745 , 1.        ],\n        [0.3372549 , 0.34509805, 0.30588236, 1.        ],\n        [0.20392157, 0.21568628, 0.14901961, 1.        ],\n        ...,\n        [0.64705884, 0.7058824 , 0.54901963, 1.        ],\n        [0.59607846, 0.63529414, 0.45882353, 1.        ],\n        [0.44705883, 0.47058824, 0.3372549 , 1.        ]],\n\n       [[0.44313726, 0.43529412, 0.40392157, 1.        ],\n        [0.3137255 , 0.31764707, 0.27450982, 1.        ],\n        [0.2       , 0.21176471, 0.14117648, 1.        ],\n        ...,\n        [0.5058824 , 0.5372549 , 0.4117647 , 1.        ],\n        [0.49803922, 0.52156866, 0.39607844, 1.        ],\n        [0.4       , 0.42745098, 0.34117648, 1.        ]],\n\n       [[0.39607844, 0.38039216, 0.34117648, 1.        ],\n        [0.31764707, 0.3137255 , 0.27450982, 1.        ],\n        [0.28627452, 0.29411766, 0.24705882, 1.        ],\n        ...,\n        [0.44705883, 0.45882353, 0.32156864, 1.        ],\n        [0.45882353, 0.48235294, 0.3529412 , 1.        ],\n        [0.4509804 , 0.49019608, 0.38039216, 1.        ]],\n\n       ...,\n\n       [[0.47058824, 0.57254905, 0.6313726 , 1.        ],\n        [0.4392157 , 0.53333336, 0.5882353 , 1.        ],\n        [0.48235294, 0.5803922 , 0.6392157 , 1.        ],\n        ...,\n        [0.6156863 , 0.7529412 , 0.827451  , 1.        ],\n        [0.61960787, 0.7607843 , 0.83137256, 1.        ],\n        [0.5921569 , 0.73333335, 0.7921569 , 1.        ]],\n\n       [[0.4745098 , 0.5803922 , 0.6392157 , 1.        ],\n        [0.47058824, 0.58431375, 0.63529414, 1.        ],\n        [0.4117647 , 0.5019608 , 0.5529412 , 1.        ],\n        ...,\n        [0.54901963, 0.6784314 , 0.74509805, 1.        ],\n        [0.65882355, 0.8117647 , 0.8862745 , 1.        ],\n        [0.60784316, 0.74509805, 0.8117647 , 1.        ]],\n\n       [[0.4745098 , 0.57254905, 0.627451  , 1.        ],\n        [0.49411765, 0.6       , 0.65882355, 1.        ],\n        [0.49019608, 0.5921569 , 0.64705884, 1.        ],\n        ...,\n        [0.5294118 , 0.63529414, 0.69803923, 1.        ],\n        [0.5529412 , 0.67058825, 0.7372549 , 1.        ],\n        [0.6156863 , 0.73333335, 0.8       , 1.        ]]], dtype=float32)"
     },
     "execution_count": 347,
     "metadata": {},
     "output_type": "execute_result"
    }
   ],
   "source": [
    "car"
   ],
   "metadata": {
    "collapsed": false,
    "ExecuteTime": {
     "end_time": "2024-01-23T18:55:01.812333900Z",
     "start_time": "2024-01-23T18:55:01.680747100Z"
    }
   },
   "id": "af9d09f86bcbe4af"
  },
  {
   "cell_type": "code",
   "execution_count": 348,
   "outputs": [
    {
     "data": {
      "text/plain": "(991300, (431, 575, 4), 3)"
     },
     "execution_count": 348,
     "metadata": {},
     "output_type": "execute_result"
    }
   ],
   "source": [
    "car.size, car.shape, car.ndim"
   ],
   "metadata": {
    "collapsed": false,
    "ExecuteTime": {
     "end_time": "2024-01-23T18:55:12.404536300Z",
     "start_time": "2024-01-23T18:55:12.273667700Z"
    }
   },
   "id": "852fd89fc8064486"
  },
  {
   "cell_type": "code",
   "execution_count": 349,
   "outputs": [
    {
     "data": {
      "text/plain": "array([[[0.5019608 , 0.50980395, 0.4862745 , 1.        ],\n        [0.3372549 , 0.34509805, 0.30588236, 1.        ],\n        [0.20392157, 0.21568628, 0.14901961, 1.        ],\n        ...,\n        [0.64705884, 0.7058824 , 0.54901963, 1.        ],\n        [0.59607846, 0.63529414, 0.45882353, 1.        ],\n        [0.44705883, 0.47058824, 0.3372549 , 1.        ]]], dtype=float32)"
     },
     "execution_count": 349,
     "metadata": {},
     "output_type": "execute_result"
    }
   ],
   "source": [
    "car[:1]"
   ],
   "metadata": {
    "collapsed": false,
    "ExecuteTime": {
     "end_time": "2024-01-23T18:55:24.542142500Z",
     "start_time": "2024-01-23T18:55:24.419033200Z"
    }
   },
   "id": "63e6c158e110297f"
  },
  {
   "cell_type": "code",
   "execution_count": 350,
   "outputs": [
    {
     "data": {
      "text/plain": "array([[[0.70980394, 0.80784315, 0.88235295, 1.        ],\n        [0.72156864, 0.8117647 , 0.8862745 , 1.        ],\n        [0.7411765 , 0.8156863 , 0.8862745 , 1.        ],\n        ...,\n        [0.49803922, 0.6862745 , 0.8392157 , 1.        ],\n        [0.49411765, 0.68235296, 0.8392157 , 1.        ],\n        [0.49411765, 0.68235296, 0.8352941 , 1.        ]],\n\n       [[0.69411767, 0.8039216 , 0.8862745 , 1.        ],\n        [0.7019608 , 0.8039216 , 0.88235295, 1.        ],\n        [0.7058824 , 0.80784315, 0.88235295, 1.        ],\n        ...,\n        [0.5019608 , 0.6862745 , 0.84705883, 1.        ],\n        [0.49411765, 0.68235296, 0.84313726, 1.        ],\n        [0.49411765, 0.68235296, 0.8392157 , 1.        ]],\n\n       [[0.6901961 , 0.8       , 0.88235295, 1.        ],\n        [0.69803923, 0.8039216 , 0.88235295, 1.        ],\n        [0.7058824 , 0.80784315, 0.88235295, 1.        ],\n        ...,\n        [0.5019608 , 0.6862745 , 0.84705883, 1.        ],\n        [0.49803922, 0.6862745 , 0.84313726, 1.        ],\n        [0.49803922, 0.6862745 , 0.84313726, 1.        ]],\n\n       ...,\n\n       [[0.9098039 , 0.81960785, 0.654902  , 1.        ],\n        [0.8352941 , 0.7490196 , 0.6509804 , 1.        ],\n        [0.72156864, 0.6313726 , 0.5372549 , 1.        ],\n        ...,\n        [0.01568628, 0.07058824, 0.02352941, 1.        ],\n        [0.03921569, 0.09411765, 0.03529412, 1.        ],\n        [0.03921569, 0.09019608, 0.05490196, 1.        ]],\n\n       [[0.9137255 , 0.83137256, 0.6784314 , 1.        ],\n        [0.8117647 , 0.7294118 , 0.627451  , 1.        ],\n        [0.65882355, 0.5686275 , 0.47843137, 1.        ],\n        ...,\n        [0.00392157, 0.05490196, 0.03529412, 1.        ],\n        [0.03137255, 0.09019608, 0.05490196, 1.        ],\n        [0.04705882, 0.10588235, 0.06666667, 1.        ]],\n\n       [[0.9137255 , 0.83137256, 0.68235296, 1.        ],\n        [0.76862746, 0.68235296, 0.5882353 , 1.        ],\n        [0.59607846, 0.5058824 , 0.44313726, 1.        ],\n        ...,\n        [0.03921569, 0.10196079, 0.07058824, 1.        ],\n        [0.02745098, 0.08235294, 0.05882353, 1.        ],\n        [0.05098039, 0.11372549, 0.07058824, 1.        ]]], dtype=float32)"
     },
     "execution_count": 350,
     "metadata": {},
     "output_type": "execute_result"
    }
   ],
   "source": [
    "# Dog\n",
    "dog = imread(\"dog-photo.png\")\n",
    "dog"
   ],
   "metadata": {
    "collapsed": false,
    "ExecuteTime": {
     "end_time": "2024-01-23T18:55:44.807634900Z",
     "start_time": "2024-01-23T18:55:44.693573700Z"
    }
   },
   "id": "8566848924197a44"
  },
  {
   "cell_type": "code",
   "execution_count": 351,
   "outputs": [
    {
     "name": "stdout",
     "output_type": "stream",
     "text": [
      "<class 'numpy.ndarray'>\n"
     ]
    }
   ],
   "source": [
    "print(type(dog))"
   ],
   "metadata": {
    "collapsed": false,
    "ExecuteTime": {
     "end_time": "2024-01-23T18:56:28.221665800Z",
     "start_time": "2024-01-23T18:56:28.096286400Z"
    }
   },
   "id": "626ac883089e9ee3"
  }
 ],
 "metadata": {
  "kernelspec": {
   "display_name": "Python 3 (ipykernel)",
   "language": "python",
   "name": "python3"
  },
  "language_info": {
   "codemirror_mode": {
    "name": "ipython",
    "version": 3
   },
   "file_extension": ".py",
   "mimetype": "text/x-python",
   "name": "python",
   "nbconvert_exporter": "python",
   "pygments_lexer": "ipython3",
   "version": "3.11.5"
  }
 },
 "nbformat": 4,
 "nbformat_minor": 5
}
